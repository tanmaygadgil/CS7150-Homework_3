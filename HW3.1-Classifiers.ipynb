{
  "cells": [
    {
      "cell_type": "markdown",
      "id": "3d326d7d",
      "metadata": {
        "id": "3d326d7d"
      },
      "source": [
        "This can be run [run on Google Colab using this link](https://colab.research.google.com/github/CS7150/CS7150-Homework_3/blob/main/HW3.1-Classifiers.ipynb)"
      ]
    },
    {
      "cell_type": "markdown",
      "id": "4dd40e9d",
      "metadata": {
        "id": "4dd40e9d"
      },
      "source": [
        "## MNIST Classifiers (Convolutional Neural Networks and Fully Connected Networks)"
      ]
    },
    {
      "cell_type": "markdown",
      "id": "ea20290e",
      "metadata": {
        "id": "ea20290e"
      },
      "source": [
        "<b>Optional</b>: Installing Wandb to see cool analysis of you code. You can go through the documentation here. We will do it for this assignment to get a taste of the GPU and CPU utilizations. If this is creating problems to your code, please comment out all the wandb lines from the notebook"
      ]
    },
    {
      "cell_type": "code",
      "execution_count": 1,
      "id": "0f63cd31",
      "metadata": {
        "colab": {
          "base_uri": "https://localhost:8080/"
        },
        "id": "0f63cd31",
        "outputId": "1e7cfe5e-683d-4023-ad25-5eab58e8af4d"
      },
      "outputs": [
        {
          "output_type": "stream",
          "name": "stdout",
          "text": [
            "Collecting wandb\n",
            "  Downloading wandb-0.15.12-py3-none-any.whl (2.1 MB)\n",
            "\u001b[2K     \u001b[90m━━━━━━━━━━━━━━━━━━━━━━━━━━━━━━━━━━━━━━━━\u001b[0m \u001b[32m2.1/2.1 MB\u001b[0m \u001b[31m29.6 MB/s\u001b[0m eta \u001b[36m0:00:00\u001b[0m\n",
            "\u001b[?25hRequirement already satisfied: Click!=8.0.0,>=7.1 in /usr/local/lib/python3.10/dist-packages (from wandb) (8.1.7)\n",
            "Collecting GitPython!=3.1.29,>=1.0.0 (from wandb)\n",
            "  Downloading GitPython-3.1.40-py3-none-any.whl (190 kB)\n",
            "\u001b[2K     \u001b[90m━━━━━━━━━━━━━━━━━━━━━━━━━━━━━━━━━━━━━━━━\u001b[0m \u001b[32m190.6/190.6 kB\u001b[0m \u001b[31m19.9 MB/s\u001b[0m eta \u001b[36m0:00:00\u001b[0m\n",
            "\u001b[?25hRequirement already satisfied: requests<3,>=2.0.0 in /usr/local/lib/python3.10/dist-packages (from wandb) (2.31.0)\n",
            "Requirement already satisfied: psutil>=5.0.0 in /usr/local/lib/python3.10/dist-packages (from wandb) (5.9.5)\n",
            "Collecting sentry-sdk>=1.0.0 (from wandb)\n",
            "  Downloading sentry_sdk-1.32.0-py2.py3-none-any.whl (240 kB)\n",
            "\u001b[2K     \u001b[90m━━━━━━━━━━━━━━━━━━━━━━━━━━━━━━━━━━━━━━━━\u001b[0m \u001b[32m241.0/241.0 kB\u001b[0m \u001b[31m29.3 MB/s\u001b[0m eta \u001b[36m0:00:00\u001b[0m\n",
            "\u001b[?25hCollecting docker-pycreds>=0.4.0 (from wandb)\n",
            "  Downloading docker_pycreds-0.4.0-py2.py3-none-any.whl (9.0 kB)\n",
            "Requirement already satisfied: PyYAML in /usr/local/lib/python3.10/dist-packages (from wandb) (6.0.1)\n",
            "Collecting pathtools (from wandb)\n",
            "  Downloading pathtools-0.1.2.tar.gz (11 kB)\n",
            "  Preparing metadata (setup.py) ... \u001b[?25l\u001b[?25hdone\n",
            "Collecting setproctitle (from wandb)\n",
            "  Downloading setproctitle-1.3.3-cp310-cp310-manylinux_2_5_x86_64.manylinux1_x86_64.manylinux_2_17_x86_64.manylinux2014_x86_64.whl (30 kB)\n",
            "Requirement already satisfied: setuptools in /usr/local/lib/python3.10/dist-packages (from wandb) (67.7.2)\n",
            "Requirement already satisfied: appdirs>=1.4.3 in /usr/local/lib/python3.10/dist-packages (from wandb) (1.4.4)\n",
            "Requirement already satisfied: protobuf!=4.21.0,<5,>=3.19.0 in /usr/local/lib/python3.10/dist-packages (from wandb) (3.20.3)\n",
            "Requirement already satisfied: six>=1.4.0 in /usr/local/lib/python3.10/dist-packages (from docker-pycreds>=0.4.0->wandb) (1.16.0)\n",
            "Collecting gitdb<5,>=4.0.1 (from GitPython!=3.1.29,>=1.0.0->wandb)\n",
            "  Downloading gitdb-4.0.10-py3-none-any.whl (62 kB)\n",
            "\u001b[2K     \u001b[90m━━━━━━━━━━━━━━━━━━━━━━━━━━━━━━━━━━━━━━━━\u001b[0m \u001b[32m62.7/62.7 kB\u001b[0m \u001b[31m8.0 MB/s\u001b[0m eta \u001b[36m0:00:00\u001b[0m\n",
            "\u001b[?25hRequirement already satisfied: charset-normalizer<4,>=2 in /usr/local/lib/python3.10/dist-packages (from requests<3,>=2.0.0->wandb) (3.3.0)\n",
            "Requirement already satisfied: idna<4,>=2.5 in /usr/local/lib/python3.10/dist-packages (from requests<3,>=2.0.0->wandb) (3.4)\n",
            "Requirement already satisfied: urllib3<3,>=1.21.1 in /usr/local/lib/python3.10/dist-packages (from requests<3,>=2.0.0->wandb) (2.0.7)\n",
            "Requirement already satisfied: certifi>=2017.4.17 in /usr/local/lib/python3.10/dist-packages (from requests<3,>=2.0.0->wandb) (2023.7.22)\n",
            "Collecting smmap<6,>=3.0.1 (from gitdb<5,>=4.0.1->GitPython!=3.1.29,>=1.0.0->wandb)\n",
            "  Downloading smmap-5.0.1-py3-none-any.whl (24 kB)\n",
            "Building wheels for collected packages: pathtools\n",
            "  Building wheel for pathtools (setup.py) ... \u001b[?25l\u001b[?25hdone\n",
            "  Created wheel for pathtools: filename=pathtools-0.1.2-py3-none-any.whl size=8791 sha256=a412702aef81570d079879e39c5e703d8615e93eb3080b0b0435bb8559ea012e\n",
            "  Stored in directory: /root/.cache/pip/wheels/e7/f3/22/152153d6eb222ee7a56ff8617d80ee5207207a8c00a7aab794\n",
            "Successfully built pathtools\n",
            "Installing collected packages: pathtools, smmap, setproctitle, sentry-sdk, docker-pycreds, gitdb, GitPython, wandb\n",
            "Successfully installed GitPython-3.1.40 docker-pycreds-0.4.0 gitdb-4.0.10 pathtools-0.1.2 sentry-sdk-1.32.0 setproctitle-1.3.3 smmap-5.0.1 wandb-0.15.12\n",
            "Collecting torchinfo\n",
            "  Downloading torchinfo-1.8.0-py3-none-any.whl (23 kB)\n",
            "Installing collected packages: torchinfo\n",
            "Successfully installed torchinfo-1.8.0\n"
          ]
        }
      ],
      "source": [
        "# Uncomment the below line to install wandb (optinal)\n",
        "!pip install wandb\n",
        "# Uncomment the below line to install torchinfo (https://github.com/TylerYep/torchinfo) [Mandatory]\n",
        "!pip install torchinfo"
      ]
    },
    {
      "cell_type": "code",
      "execution_count": 2,
      "id": "8211a22f",
      "metadata": {
        "colab": {
          "base_uri": "https://localhost:8080/"
        },
        "id": "8211a22f",
        "outputId": "3e26777f-1129-4986-c6b1-a8e973d55a33"
      },
      "outputs": [
        {
          "output_type": "stream",
          "name": "stderr",
          "text": [
            "--2023-10-19 21:05:24--  https://cs7150.baulab.info/2022-Fall/data/mnist-classify.pth\n",
            "Resolving cs7150.baulab.info (cs7150.baulab.info)... 35.232.255.106\n",
            "Connecting to cs7150.baulab.info (cs7150.baulab.info)|35.232.255.106|:443... connected.\n",
            "HTTP request sent, awaiting response... 200 OK\n",
            "Length: 1078198 (1.0M)\n",
            "Saving to: ‘mnist-classify.pth’\n",
            "\n",
            "     0K .......... .......... .......... .......... ..........  4%  602K 2s\n",
            "    50K .......... .......... .......... .......... ..........  9% 1.26M 1s\n",
            "   100K .......... .......... .......... .......... .......... 14% 7.32M 1s\n",
            "   150K .......... .......... .......... .......... .......... 18% 1.52M 1s\n",
            "   200K .......... .......... .......... .......... .......... 23% 12.1M 1s\n",
            "   250K .......... .......... .......... .......... .......... 28% 17.6M 0s\n",
            "   300K .......... .......... .......... .......... .......... 33% 14.9M 0s\n",
            "   350K .......... .......... .......... .......... .......... 37% 1.64M 0s\n",
            "   400K .......... .......... .......... .......... .......... 42% 29.8M 0s\n",
            "   450K .......... .......... .......... .......... .......... 47% 18.3M 0s\n",
            "   500K .......... .......... .......... .......... .......... 52% 20.9M 0s\n",
            "   550K .......... .......... .......... .......... .......... 56% 64.2M 0s\n",
            "   600K .......... .......... .......... .......... .......... 61% 46.4M 0s\n",
            "   650K .......... .......... .......... .......... .......... 66% 25.9M 0s\n",
            "   700K .......... .......... .......... .......... .......... 71% 1.66M 0s\n",
            "   750K .......... .......... .......... .......... .......... 75%  167M 0s\n",
            "   800K .......... .......... .......... .......... .......... 80%  174M 0s\n",
            "   850K .......... .......... .......... .......... .......... 85% 14.3M 0s\n",
            "   900K .......... .......... .......... .......... .......... 90%  346M 0s\n",
            "   950K .......... .......... .......... .......... .......... 94%  104M 0s\n",
            "  1000K .......... .......... .......... .......... .......... 99% 37.3M 0s\n",
            "  1050K ..                                                    100% 5.45T=0.2s\n",
            "\n",
            "2023-10-19 21:05:24 (4.18 MB/s) - ‘mnist-classify.pth’ saved [1078198/1078198]\n",
            "\n"
          ]
        }
      ],
      "source": [
        "\n",
        "%%bash\n",
        "\n",
        "wget -N https://cs7150.baulab.info/2022-Fall/data/mnist-classify.pth"
      ]
    },
    {
      "cell_type": "code",
      "execution_count": 4,
      "id": "621c2c89",
      "metadata": {
        "scrolled": true,
        "id": "621c2c89"
      },
      "outputs": [],
      "source": [
        "# Importing libraries\n",
        "import matplotlib.pyplot as plt\n",
        "\n",
        "import torch\n",
        "import torchvision\n",
        "from torchvision import transforms\n",
        "from torch.utils.data import DataLoader,random_split,Subset\n",
        "from torch import nn\n",
        "import torch.nn.functional as F\n",
        "import torch.optim as optim\n",
        "from torchinfo import summary\n",
        "import numpy as np\n",
        "import datetime\n",
        "\n",
        "from typing import List\n",
        "from collections import OrderedDict\n",
        "import math"
      ]
    },
    {
      "cell_type": "code",
      "execution_count": 5,
      "id": "e05fd6b2",
      "metadata": {
        "colab": {
          "base_uri": "https://localhost:8080/",
          "height": 160
        },
        "id": "e05fd6b2",
        "outputId": "27eb1b2a-3ba5-48b2-83eb-bea994915bd5"
      },
      "outputs": [
        {
          "output_type": "display_data",
          "data": {
            "text/plain": [
              "<IPython.core.display.Javascript object>"
            ],
            "application/javascript": [
              "\n",
              "        window._wandbApiKey = new Promise((resolve, reject) => {\n",
              "            function loadScript(url) {\n",
              "            return new Promise(function(resolve, reject) {\n",
              "                let newScript = document.createElement(\"script\");\n",
              "                newScript.onerror = reject;\n",
              "                newScript.onload = resolve;\n",
              "                document.body.appendChild(newScript);\n",
              "                newScript.src = url;\n",
              "            });\n",
              "            }\n",
              "            loadScript(\"https://cdn.jsdelivr.net/npm/postmate/build/postmate.min.js\").then(() => {\n",
              "            const iframe = document.createElement('iframe')\n",
              "            iframe.style.cssText = \"width:0;height:0;border:none\"\n",
              "            document.body.appendChild(iframe)\n",
              "            const handshake = new Postmate({\n",
              "                container: iframe,\n",
              "                url: 'https://wandb.ai/authorize'\n",
              "            });\n",
              "            const timeout = setTimeout(() => reject(\"Couldn't auto authenticate\"), 5000)\n",
              "            handshake.then(function(child) {\n",
              "                child.on('authorize', data => {\n",
              "                    clearTimeout(timeout)\n",
              "                    resolve(data)\n",
              "                });\n",
              "            });\n",
              "            })\n",
              "        });\n",
              "    "
            ]
          },
          "metadata": {}
        },
        {
          "output_type": "stream",
          "name": "stderr",
          "text": [
            "\u001b[34m\u001b[1mwandb\u001b[0m: Appending key for api.wandb.ai to your netrc file: /root/.netrc\n"
          ]
        },
        {
          "output_type": "display_data",
          "data": {
            "text/plain": [
              "<IPython.core.display.HTML object>"
            ],
            "text/html": [
              "Tracking run with wandb version 0.15.12"
            ]
          },
          "metadata": {}
        },
        {
          "output_type": "display_data",
          "data": {
            "text/plain": [
              "<IPython.core.display.HTML object>"
            ],
            "text/html": [
              "Run data is saved locally in <code>/content/wandb/run-20231019_210549-0v8qpue6</code>"
            ]
          },
          "metadata": {}
        },
        {
          "output_type": "display_data",
          "data": {
            "text/plain": [
              "<IPython.core.display.HTML object>"
            ],
            "text/html": [
              "Syncing run <strong><a href='https://wandb.ai/tanmaygadgil96/hw3.1-ConvNets/runs/0v8qpue6' target=\"_blank\">zany-snowball-4</a></strong> to <a href='https://wandb.ai/tanmaygadgil96/hw3.1-ConvNets' target=\"_blank\">Weights & Biases</a> (<a href='https://wandb.me/run' target=\"_blank\">docs</a>)<br/>"
            ]
          },
          "metadata": {}
        },
        {
          "output_type": "display_data",
          "data": {
            "text/plain": [
              "<IPython.core.display.HTML object>"
            ],
            "text/html": [
              " View project at <a href='https://wandb.ai/tanmaygadgil96/hw3.1-ConvNets' target=\"_blank\">https://wandb.ai/tanmaygadgil96/hw3.1-ConvNets</a>"
            ]
          },
          "metadata": {}
        },
        {
          "output_type": "display_data",
          "data": {
            "text/plain": [
              "<IPython.core.display.HTML object>"
            ],
            "text/html": [
              " View run at <a href='https://wandb.ai/tanmaygadgil96/hw3.1-ConvNets/runs/0v8qpue6' target=\"_blank\">https://wandb.ai/tanmaygadgil96/hw3.1-ConvNets/runs/0v8qpue6</a>"
            ]
          },
          "metadata": {}
        },
        {
          "output_type": "execute_result",
          "data": {
            "text/html": [
              "<button onClick=\"this.nextSibling.style.display='block';this.style.display='none';\">Display W&B run</button><iframe src='https://wandb.ai/tanmaygadgil96/hw3.1-ConvNets/runs/0v8qpue6?jupyter=true' style='border:none;width:100%;height:420px;display:none;'></iframe>"
            ],
            "text/plain": [
              "<wandb.sdk.wandb_run.Run at 0x7d4c7f888160>"
            ]
          },
          "metadata": {},
          "execution_count": 5
        }
      ],
      "source": [
        "# Create an account at https://wandb.ai/site and paste the api key here (optional)\n",
        "import wandb\n",
        "wandb.init(project=\"hw3.1-ConvNets\")"
      ]
    },
    {
      "cell_type": "markdown",
      "id": "53ab5423",
      "metadata": {
        "id": "53ab5423"
      },
      "source": [
        "### Some helper functions to view network parameters"
      ]
    },
    {
      "cell_type": "code",
      "execution_count": 6,
      "id": "5233e6cb",
      "metadata": {
        "id": "5233e6cb"
      },
      "outputs": [],
      "source": [
        "def view_network_parameters(model):\n",
        "    # Visualise the number of parameters\n",
        "    tensor_list = list(model.state_dict().items())\n",
        "    total_parameters = 0\n",
        "    print('Model Summary\\n')\n",
        "    for layer_tensor_name, tensor in tensor_list:\n",
        "        total_parameters += int(torch.numel(tensor))\n",
        "        print('{}: {} elements'.format(layer_tensor_name, torch.numel(tensor)))\n",
        "    print(f'\\nTotal Trainable Parameters: {total_parameters}!')"
      ]
    },
    {
      "cell_type": "code",
      "execution_count": 7,
      "id": "13a073a7",
      "metadata": {
        "id": "13a073a7"
      },
      "outputs": [],
      "source": [
        "def view_network_shapes(model, input_shape):\n",
        "    print(summary(conv_net, input_size=input_shape))"
      ]
    },
    {
      "cell_type": "markdown",
      "id": "d140bdae",
      "metadata": {
        "id": "d140bdae"
      },
      "source": [
        "### Fully Connected Network for Image Classification\n",
        "Let's build a simple fully connected network!"
      ]
    },
    {
      "cell_type": "code",
      "execution_count": 8,
      "id": "ccf368fb",
      "metadata": {
        "id": "ccf368fb"
      },
      "outputs": [],
      "source": [
        "def simple_fc_net():\n",
        "    model = nn.Sequential(\n",
        "        nn.Flatten(),\n",
        "        nn.Linear(1*28*28,8*28*28),\n",
        "        nn.ReLU(),\n",
        "        nn.Linear(8*28*28,16*14*14),\n",
        "        nn.ReLU(),\n",
        "        nn.Linear(16*14*14,32*7*7),\n",
        "        nn.ReLU(),\n",
        "        nn.Linear(32*7*7,288),\n",
        "        nn.ReLU(),\n",
        "        nn.Linear(288,64),\n",
        "        nn.ReLU(),\n",
        "        nn.Linear(64,10),\n",
        "        nn.LogSoftmax())\n",
        "    return model"
      ]
    },
    {
      "cell_type": "code",
      "execution_count": 9,
      "id": "8306548c",
      "metadata": {
        "id": "8306548c"
      },
      "outputs": [],
      "source": [
        "fc_net = simple_fc_net()"
      ]
    },
    {
      "cell_type": "code",
      "execution_count": 10,
      "id": "f968a3c1",
      "metadata": {
        "colab": {
          "base_uri": "https://localhost:8080/"
        },
        "id": "f968a3c1",
        "outputId": "eb43909f-8753-4daa-9e98-d5baee89db23"
      },
      "outputs": [
        {
          "output_type": "stream",
          "name": "stdout",
          "text": [
            "Model Summary\n",
            "\n",
            "1.weight: 4917248 elements\n",
            "1.bias: 6272 elements\n",
            "3.weight: 19668992 elements\n",
            "3.bias: 3136 elements\n",
            "5.weight: 4917248 elements\n",
            "5.bias: 1568 elements\n",
            "7.weight: 451584 elements\n",
            "7.bias: 288 elements\n",
            "9.weight: 18432 elements\n",
            "9.bias: 64 elements\n",
            "11.weight: 640 elements\n",
            "11.bias: 10 elements\n",
            "\n",
            "Total Trainable Parameters: 29985482!\n"
          ]
        }
      ],
      "source": [
        "view_network_parameters(fc_net)"
      ]
    },
    {
      "cell_type": "code",
      "execution_count": 11,
      "id": "83eb4838",
      "metadata": {
        "colab": {
          "base_uri": "https://localhost:8080/"
        },
        "id": "83eb4838",
        "outputId": "c50bc7b6-5529-44df-8b0e-51bf930b0a27"
      },
      "outputs": [
        {
          "output_type": "stream",
          "name": "stdout",
          "text": [
            "Model Summary\n",
            "\n",
            "1.weight: 4917248 elements\n",
            "1.bias: 6272 elements\n",
            "3.weight: 19668992 elements\n",
            "3.bias: 3136 elements\n",
            "5.weight: 4917248 elements\n",
            "5.bias: 1568 elements\n",
            "7.weight: 451584 elements\n",
            "7.bias: 288 elements\n",
            "9.weight: 18432 elements\n",
            "9.bias: 64 elements\n",
            "11.weight: 640 elements\n",
            "11.bias: 10 elements\n",
            "\n",
            "Total Trainable Parameters: 29985482!\n"
          ]
        }
      ],
      "source": [
        "view_network_parameters(fc_net)"
      ]
    },
    {
      "cell_type": "code",
      "execution_count": 12,
      "id": "a19d63c2",
      "metadata": {
        "colab": {
          "base_uri": "https://localhost:8080/"
        },
        "id": "a19d63c2",
        "outputId": "32c65f0b-886d-43bf-93da-5f975fc6727d"
      },
      "outputs": [
        {
          "output_type": "stream",
          "name": "stderr",
          "text": [
            "/usr/local/lib/python3.10/dist-packages/torch/nn/modules/module.py:1518: UserWarning: Implicit dimension choice for log_softmax has been deprecated. Change the call to include dim=X as an argument.\n",
            "  return self._call_impl(*args, **kwargs)\n"
          ]
        },
        {
          "output_type": "execute_result",
          "data": {
            "text/plain": [
              "==========================================================================================\n",
              "Layer (type:depth-idx)                   Output Shape              Param #\n",
              "==========================================================================================\n",
              "Sequential                               [1, 10]                   --\n",
              "├─Flatten: 1-1                           [1, 784]                  --\n",
              "├─Linear: 1-2                            [1, 6272]                 4,923,520\n",
              "├─ReLU: 1-3                              [1, 6272]                 --\n",
              "├─Linear: 1-4                            [1, 3136]                 19,672,128\n",
              "├─ReLU: 1-5                              [1, 3136]                 --\n",
              "├─Linear: 1-6                            [1, 1568]                 4,918,816\n",
              "├─ReLU: 1-7                              [1, 1568]                 --\n",
              "├─Linear: 1-8                            [1, 288]                  451,872\n",
              "├─ReLU: 1-9                              [1, 288]                  --\n",
              "├─Linear: 1-10                           [1, 64]                   18,496\n",
              "├─ReLU: 1-11                             [1, 64]                   --\n",
              "├─Linear: 1-12                           [1, 10]                   650\n",
              "├─LogSoftmax: 1-13                       [1, 10]                   --\n",
              "==========================================================================================\n",
              "Total params: 29,985,482\n",
              "Trainable params: 29,985,482\n",
              "Non-trainable params: 0\n",
              "Total mult-adds (M): 29.99\n",
              "==========================================================================================\n",
              "Input size (MB): 0.00\n",
              "Forward/backward pass size (MB): 0.09\n",
              "Params size (MB): 119.94\n",
              "Estimated Total Size (MB): 120.04\n",
              "=========================================================================================="
            ]
          },
          "metadata": {},
          "execution_count": 12
        }
      ],
      "source": [
        "from torchinfo import summary\n",
        "summary(fc_net, input_size=(1, 1, 28,28))"
      ]
    },
    {
      "cell_type": "markdown",
      "id": "25cfc411",
      "metadata": {
        "id": "25cfc411"
      },
      "source": [
        "<b>Exercise</b>: Now try to add different layers and see how the network parameters vary. Does adding layers reduce the parameters? Does the number of hidden neurons in the layers affect the total trainable parameters?\n",
        "\n",
        "<i>Add a few sentences on your observations while using various architectures</i>"
      ]
    },
    {
      "cell_type": "code",
      "execution_count": 13,
      "id": "2775c829",
      "metadata": {
        "colab": {
          "base_uri": "https://localhost:8080/"
        },
        "id": "2775c829",
        "outputId": "b9886938-d943-4391-bc23-984657326105"
      },
      "outputs": [
        {
          "output_type": "execute_result",
          "data": {
            "text/plain": [
              "==========================================================================================\n",
              "Layer (type:depth-idx)                   Output Shape              Param #\n",
              "==========================================================================================\n",
              "Sequential                               [1, 10]                   --\n",
              "├─Flatten: 1-1                           [1, 784]                  --\n",
              "├─Linear: 1-2                            [1, 6272]                 4,923,520\n",
              "├─ReLU: 1-3                              [1, 6272]                 --\n",
              "├─Linear: 1-4                            [1, 3136]                 19,672,128\n",
              "├─ReLU: 1-5                              [1, 3136]                 --\n",
              "├─Linear: 1-6                            [1, 3136]                 9,837,632\n",
              "├─ReLU: 1-7                              [1, 3136]                 --\n",
              "├─Linear: 1-8                            [1, 1568]                 4,918,816\n",
              "├─ReLU: 1-9                              [1, 1568]                 --\n",
              "├─Linear: 1-10                           [1, 288]                  451,872\n",
              "├─ReLU: 1-11                             [1, 288]                  --\n",
              "├─Linear: 1-12                           [1, 64]                   18,496\n",
              "├─ReLU: 1-13                             [1, 64]                   --\n",
              "├─Linear: 1-14                           [1, 10]                   650\n",
              "├─LogSoftmax: 1-15                       [1, 10]                   --\n",
              "==========================================================================================\n",
              "Total params: 39,823,114\n",
              "Trainable params: 39,823,114\n",
              "Non-trainable params: 0\n",
              "Total mult-adds (M): 39.82\n",
              "==========================================================================================\n",
              "Input size (MB): 0.00\n",
              "Forward/backward pass size (MB): 0.12\n",
              "Params size (MB): 159.29\n",
              "Estimated Total Size (MB): 159.41\n",
              "=========================================================================================="
            ]
          },
          "metadata": {},
          "execution_count": 13
        }
      ],
      "source": [
        "#Please type your answer here ...\n",
        "def new_fc_net():\n",
        "    model = nn.Sequential(\n",
        "        nn.Flatten(),\n",
        "        nn.Linear(1*28*28,8*28*28),\n",
        "        nn.ReLU(),\n",
        "        nn.Linear(8*28*28,16*14*14),\n",
        "        nn.ReLU(),\n",
        "        nn.Linear(16*14*14,16*14*14),\n",
        "        nn.ReLU(),\n",
        "        nn.Linear(16*14*14,32*7*7),\n",
        "        nn.ReLU(),\n",
        "        nn.Linear(32*7*7,288),\n",
        "        nn.ReLU(),\n",
        "        nn.Linear(288,64),\n",
        "        nn.ReLU(),\n",
        "        nn.Linear(64,10),\n",
        "        nn.LogSoftmax())\n",
        "    return model\n",
        "fc_net_new = new_fc_net()\n",
        "\n",
        "summary(fc_net_new, input_size=(1,1,28,28))\n"
      ]
    },
    {
      "cell_type": "markdown",
      "id": "245bc885",
      "metadata": {
        "id": "245bc885"
      },
      "source": [
        "\n",
        "### Convolutional Neural Network for Image Classification\n",
        "Let's build a simple CNN to classify our images.\n",
        "<b> Exercise 3.1.1:</b> In the function below please add the conv/Relu/Maxpool layers to match the shape of FC-Net. Suppose at the some layer the FC-Net has `28*28*16` dimension, we want your conv_net to have `16 X 28 X 28` shape at the same numbered layer. <br>\n",
        "<b>Extra-credit:</b> Try not to use MaxPool2d !"
      ]
    },
    {
      "cell_type": "code",
      "source": [
        "def compute_out_kernel(input_dim, in_kernel=3, strides=1, padding=0):\n",
        "\n",
        "  return (input_dim - in_kernel + 2* padding)/(strides) + 1"
      ],
      "metadata": {
        "id": "eM71ZfMk8Bsh"
      },
      "id": "eM71ZfMk8Bsh",
      "execution_count": 14,
      "outputs": []
    },
    {
      "cell_type": "code",
      "source": [
        "compute_out_kernel(28, 3,1,1)"
      ],
      "metadata": {
        "id": "QH70Pzjl8sS0",
        "outputId": "15639bbf-ac35-4960-84e1-e86da5789631",
        "colab": {
          "base_uri": "https://localhost:8080/"
        }
      },
      "id": "QH70Pzjl8sS0",
      "execution_count": 33,
      "outputs": [
        {
          "output_type": "execute_result",
          "data": {
            "text/plain": [
              "28.0"
            ]
          },
          "metadata": {},
          "execution_count": 33
        }
      ]
    },
    {
      "cell_type": "code",
      "source": [
        "compute_out_kernel(28,3,1, 1)"
      ],
      "metadata": {
        "id": "X4sLW8iQ9WxE",
        "outputId": "0ee70659-4fc2-4657-e401-c89f6fcf9e1d",
        "colab": {
          "base_uri": "https://localhost:8080/"
        }
      },
      "id": "X4sLW8iQ9WxE",
      "execution_count": 37,
      "outputs": [
        {
          "output_type": "execute_result",
          "data": {
            "text/plain": [
              "28.0"
            ]
          },
          "metadata": {},
          "execution_count": 37
        }
      ]
    },
    {
      "cell_type": "code",
      "source": [
        "compute_out_kernel(28,3,1,1)"
      ],
      "metadata": {
        "id": "3V2Ai7mb9gRa",
        "outputId": "45a1aea2-7a1c-4b1e-f48d-d383e7451579",
        "colab": {
          "base_uri": "https://localhost:8080/"
        }
      },
      "id": "3V2Ai7mb9gRa",
      "execution_count": 40,
      "outputs": [
        {
          "output_type": "execute_result",
          "data": {
            "text/plain": [
              "28.0"
            ]
          },
          "metadata": {},
          "execution_count": 40
        }
      ]
    },
    {
      "cell_type": "code",
      "execution_count": 61,
      "id": "65674742",
      "metadata": {
        "id": "65674742"
      },
      "outputs": [],
      "source": [
        "def simple_conv_net():\n",
        "    model = nn.Sequential(\n",
        "        nn.Conv2d(1,16,kernel_size=3,padding=1),\n",
        "        nn.ReLU(),\n",
        "        nn.MaxPool2d(2,2),\n",
        "        # TO-DO: Add layers below\n",
        "        nn.Conv2d(16,32,kernel_size=4,padding=1,stride=2),\n",
        "        nn.ReLU(),\n",
        "        nn.Conv2d(32,18,kernel_size=4,padding=0,stride=1),\n",
        "        nn.ReLU(),\n",
        "        # TO-DO, what will your shape be after you flatten? Fill it in place of None\n",
        "        nn.Flatten(),\n",
        "        nn.Linear(288,64),\n",
        "        # Do not change the code below\n",
        "        nn.ReLU(),\n",
        "        nn.Linear(64,10),\n",
        "        nn.LogSoftmax())\n",
        "    return model\n",
        "\n",
        "    ###conv(16, 32, k3, s2, p1)\n",
        "    # conv(32, 32, )"
      ]
    },
    {
      "cell_type": "code",
      "execution_count": 62,
      "id": "6bb06a8d",
      "metadata": {
        "id": "6bb06a8d"
      },
      "outputs": [],
      "source": [
        "conv_net = simple_conv_net()"
      ]
    },
    {
      "cell_type": "code",
      "execution_count": 63,
      "id": "c6d6e8f0",
      "metadata": {
        "scrolled": true,
        "colab": {
          "base_uri": "https://localhost:8080/"
        },
        "id": "c6d6e8f0",
        "outputId": "b4e852cb-718e-4849-e46a-79aee19ef47b"
      },
      "outputs": [
        {
          "output_type": "stream",
          "name": "stdout",
          "text": [
            "Model Summary\n",
            "\n",
            "0.weight: 144 elements\n",
            "0.bias: 16 elements\n",
            "3.weight: 8192 elements\n",
            "3.bias: 32 elements\n",
            "5.weight: 9216 elements\n",
            "5.bias: 18 elements\n",
            "8.weight: 18432 elements\n",
            "8.bias: 64 elements\n",
            "10.weight: 640 elements\n",
            "10.bias: 10 elements\n",
            "\n",
            "Total Trainable Parameters: 36764!\n"
          ]
        }
      ],
      "source": [
        "view_network_parameters(conv_net)"
      ]
    },
    {
      "cell_type": "code",
      "execution_count": 64,
      "id": "49ed1786",
      "metadata": {
        "colab": {
          "base_uri": "https://localhost:8080/"
        },
        "id": "49ed1786",
        "outputId": "3fd287ea-b1b7-44ed-e29c-4407546d889f"
      },
      "outputs": [
        {
          "output_type": "stream",
          "name": "stdout",
          "text": [
            "==========================================================================================\n",
            "Layer (type:depth-idx)                   Output Shape              Param #\n",
            "==========================================================================================\n",
            "Sequential                               [1, 10]                   --\n",
            "├─Conv2d: 1-1                            [1, 16, 28, 28]           160\n",
            "├─ReLU: 1-2                              [1, 16, 28, 28]           --\n",
            "├─MaxPool2d: 1-3                         [1, 16, 14, 14]           --\n",
            "├─Conv2d: 1-4                            [1, 32, 7, 7]             8,224\n",
            "├─ReLU: 1-5                              [1, 32, 7, 7]             --\n",
            "├─Conv2d: 1-6                            [1, 18, 4, 4]             9,234\n",
            "├─ReLU: 1-7                              [1, 18, 4, 4]             --\n",
            "├─Flatten: 1-8                           [1, 288]                  --\n",
            "├─Linear: 1-9                            [1, 64]                   18,496\n",
            "├─ReLU: 1-10                             [1, 64]                   --\n",
            "├─Linear: 1-11                           [1, 10]                   650\n",
            "├─LogSoftmax: 1-12                       [1, 10]                   --\n",
            "==========================================================================================\n",
            "Total params: 36,764\n",
            "Trainable params: 36,764\n",
            "Non-trainable params: 0\n",
            "Total mult-adds (M): 0.70\n",
            "==========================================================================================\n",
            "Input size (MB): 0.00\n",
            "Forward/backward pass size (MB): 0.12\n",
            "Params size (MB): 0.15\n",
            "Estimated Total Size (MB): 0.27\n",
            "==========================================================================================\n"
          ]
        }
      ],
      "source": [
        "view_network_shapes(conv_net, input_shape=(1,1,28,28))"
      ]
    },
    {
      "cell_type": "markdown",
      "id": "0f577403",
      "metadata": {
        "id": "0f577403"
      },
      "source": [
        "<b>Exercise 3.1.2</b>: Why is the final layer a log softmax? What is a softmax function? Can we use ReLU instead of softmax? If yes, what would you do different? If not, tell us why. If you think there is a different answer, feel free to use this space to chart it down"
      ]
    },
    {
      "cell_type": "markdown",
      "id": "e530f3e2",
      "metadata": {
        "id": "e530f3e2"
      },
      "source": [
        "A softmax is a function that converts logits to probability distributions. These distributions are what we use to pick a  class for a classifier. The log helps to achieve these computationally"
      ]
    },
    {
      "cell_type": "markdown",
      "id": "41ea2c8c",
      "metadata": {
        "id": "41ea2c8c"
      },
      "source": [
        "<b>Exercise 3.1.3</b>: What is the ratio of number of parameters of Conv-net to number of parameters of FC-Net <br>\n",
        "$\\frac{p_{conv-net}}{p_{fc-net}}$ = Fill your answer <br>\n",
        "Do you see the difference ?!"
      ]
    },
    {
      "cell_type": "markdown",
      "id": "b4c6329e",
      "metadata": {
        "id": "b4c6329e"
      },
      "source": [
        "<b>Exercise 3.1.4</b>: Now try to add different layers and see how the network parameters vary. Does adding layers reduce the parameters? Does the number of hidden neurons in the layers affect the total trainable parameters? Use the `build_custom_fc_net` function given below. You do not have to understand the working of it.\n",
        "\n",
        "<i>Add a few sentences on your observations while using various architectures</i>"
      ]
    },
    {
      "cell_type": "code",
      "execution_count": null,
      "id": "b89d76f7",
      "metadata": {
        "scrolled": true,
        "id": "b89d76f7",
        "colab": {
          "base_uri": "https://localhost:8080/"
        },
        "outputId": "5480965f-1eeb-48d8-e82e-4989b7b86cec"
      },
      "outputs": [
        {
          "output_type": "stream",
          "name": "stdout",
          "text": [
            "Model Summary\n",
            "\n",
            "linear_1.weight: 100352 elements\n",
            "linear_1.bias: 128 elements\n",
            "linear_2.weight: 8192 elements\n",
            "linear_2.bias: 64 elements\n",
            "linear_3.weight: 2048 elements\n",
            "linear_3.bias: 32 elements\n",
            "linear_4.weight: 320 elements\n",
            "linear_4.bias: 10 elements\n",
            "\n",
            "Total Trainable Parameters: 111146!\n",
            "Model Summary\n",
            "\n",
            "linear_1.weight: 200704 elements\n",
            "linear_1.bias: 256 elements\n",
            "linear_2.weight: 32768 elements\n",
            "linear_2.bias: 128 elements\n",
            "linear_3.weight: 4096 elements\n",
            "linear_3.bias: 32 elements\n",
            "linear_4.weight: 640 elements\n",
            "linear_4.bias: 20 elements\n",
            "\n",
            "Total Trainable Parameters: 238644!\n",
            "Model Summary\n",
            "\n",
            "linear_1.weight: 100352 elements\n",
            "linear_1.bias: 128 elements\n",
            "linear_2.weight: 16384 elements\n",
            "linear_2.bias: 128 elements\n",
            "linear_3.weight: 16384 elements\n",
            "linear_3.bias: 128 elements\n",
            "linear_4.weight: 256 elements\n",
            "linear_4.bias: 2 elements\n",
            "\n",
            "Total Trainable Parameters: 133762!\n"
          ]
        }
      ],
      "source": [
        "def build_custom_fc_net(inp_dim: int, out_dim: int, hidden_fc_dim: List[int]):\n",
        "    '''\n",
        "    Inputs :\n",
        "\n",
        "    inp_dim: Shape of the input dimensions (in MNIST case 28*28)\n",
        "    out_dim: Desired classification classes (in MNIST case 10)\n",
        "    hidden_fc_dim: List of the intermediate dimension shapes (list of integers). Try different values and see the shapes'\n",
        "\n",
        "    Return: nn.Sequential (final custom model)\n",
        "    '''\n",
        "    assert type(hidden_fc_dim) == list, \"Please define hidden_fc_dim as list of integers\"\n",
        "    layers = []\n",
        "    layers.append((f'flatten', nn.Flatten()))\n",
        "    # If no hidden layer is required\n",
        "    if len(hidden_fc_dim) == 0:\n",
        "        layers.append((f'linear',nn.Linear(math.prod(inp_dim),out_dim)))\n",
        "        layers.append((f'activation',nn.LogSoftmax()))\n",
        "    else:\n",
        "        # Loop over hidden dimensions and add layers\n",
        "        for idx, dim in enumerate(hidden_fc_dim):\n",
        "            if idx == 0:\n",
        "                layers.append((f'linear_{idx+1}',nn.Linear(math.prod(inp_dim),dim)))\n",
        "                layers.append((f'activation_{idx+1}',nn.ReLU()))\n",
        "            else:\n",
        "                layers.append((f'linear_{idx+1}',nn.Linear(hidden_fc_dim[idx-1],dim)))\n",
        "                layers.append((f'activation_{idx+1}',nn.ReLU()))\n",
        "        layers.append((f'linear_{idx+2}',nn.Linear(dim,out_dim)))\n",
        "        layers.append((f'activation_{idx+2}',nn.LogSoftmax()))\n",
        "\n",
        "    model =  nn.Sequential(OrderedDict(layers))\n",
        "    return model\n",
        "\n",
        "# TO-DO build different networks (atleast 3) and see the parameters\n",
        "#(You don't have to understand the function above. It is a generic way to build a FC-Net)\n",
        "\n",
        "\n",
        "fc_net_custom1 = build_custom_fc_net(inp_dim=(1,28,28), out_dim=10, hidden_fc_dim=[128,64,32])\n",
        "view_network_parameters(fc_net_custom1)\n",
        "\n",
        "fc_net_custom2 =build_custom_fc_net(inp_dim=(1,28,28),\n",
        "                                    out_dim=20,\n",
        "                                    hidden_fc_dim=[256,128,32])\n",
        "view_network_parameters(fc_net_custom2)\n",
        "\n",
        "fc_net_custom3 =build_custom_fc_net(inp_dim=(1,28,28),\n",
        "                                    out_dim=2,\n",
        "                                    hidden_fc_dim=[128,128,128])\n",
        "view_network_parameters(fc_net_custom3)"
      ]
    },
    {
      "cell_type": "markdown",
      "id": "71c48647",
      "metadata": {
        "id": "71c48647"
      },
      "source": [
        "## Let's train the models to see their performace"
      ]
    },
    {
      "cell_type": "code",
      "execution_count": null,
      "id": "94ae412d",
      "metadata": {
        "id": "94ae412d",
        "colab": {
          "base_uri": "https://localhost:8080/"
        },
        "outputId": "c4cb66fb-16e6-4c89-f784-d82a465ed290"
      },
      "outputs": [
        {
          "output_type": "stream",
          "name": "stdout",
          "text": [
            "Downloading http://yann.lecun.com/exdb/mnist/train-images-idx3-ubyte.gz\n",
            "Downloading http://yann.lecun.com/exdb/mnist/train-images-idx3-ubyte.gz to data/MNIST/raw/train-images-idx3-ubyte.gz\n"
          ]
        },
        {
          "output_type": "stream",
          "name": "stderr",
          "text": [
            "100%|██████████| 9912422/9912422 [00:00<00:00, 66471045.41it/s]\n"
          ]
        },
        {
          "output_type": "stream",
          "name": "stdout",
          "text": [
            "Extracting data/MNIST/raw/train-images-idx3-ubyte.gz to data/MNIST/raw\n",
            "\n",
            "Downloading http://yann.lecun.com/exdb/mnist/train-labels-idx1-ubyte.gz\n",
            "Downloading http://yann.lecun.com/exdb/mnist/train-labels-idx1-ubyte.gz to data/MNIST/raw/train-labels-idx1-ubyte.gz\n"
          ]
        },
        {
          "output_type": "stream",
          "name": "stderr",
          "text": [
            "100%|██████████| 28881/28881 [00:00<00:00, 51372219.60it/s]\n"
          ]
        },
        {
          "output_type": "stream",
          "name": "stdout",
          "text": [
            "Extracting data/MNIST/raw/train-labels-idx1-ubyte.gz to data/MNIST/raw\n",
            "\n",
            "Downloading http://yann.lecun.com/exdb/mnist/t10k-images-idx3-ubyte.gz\n",
            "Downloading http://yann.lecun.com/exdb/mnist/t10k-images-idx3-ubyte.gz to data/MNIST/raw/t10k-images-idx3-ubyte.gz\n"
          ]
        },
        {
          "output_type": "stream",
          "name": "stderr",
          "text": [
            "100%|██████████| 1648877/1648877 [00:00<00:00, 10847095.89it/s]\n"
          ]
        },
        {
          "output_type": "stream",
          "name": "stdout",
          "text": [
            "Extracting data/MNIST/raw/t10k-images-idx3-ubyte.gz to data/MNIST/raw\n",
            "\n",
            "Downloading http://yann.lecun.com/exdb/mnist/t10k-labels-idx1-ubyte.gz\n",
            "Downloading http://yann.lecun.com/exdb/mnist/t10k-labels-idx1-ubyte.gz to data/MNIST/raw/t10k-labels-idx1-ubyte.gz\n"
          ]
        },
        {
          "output_type": "stream",
          "name": "stderr",
          "text": [
            "100%|██████████| 4542/4542 [00:00<00:00, 6607883.72it/s]"
          ]
        },
        {
          "output_type": "stream",
          "name": "stdout",
          "text": [
            "Extracting data/MNIST/raw/t10k-labels-idx1-ubyte.gz to data/MNIST/raw\n",
            "\n",
            "Datatype of the dataset object: <class 'torchvision.datasets.mnist.MNIST'>\n",
            "Number of samples in training data: 60000\n",
            "Number of samples in test data: 10000\n"
          ]
        },
        {
          "output_type": "stream",
          "name": "stderr",
          "text": [
            "\n"
          ]
        }
      ],
      "source": [
        "# downloading mnist into folder\n",
        "data_dir = 'data' # make sure that this folder is created in your working dir\n",
        "# transform the PIL images to tensor using torchvision.transform.toTensor method\n",
        "train_data = torchvision.datasets.MNIST(data_dir, train=True, download=True, transform=torchvision.transforms.Compose([torchvision.transforms.ToTensor()]))\n",
        "test_data  = torchvision.datasets.MNIST(data_dir, train=False, download=True, transform=torchvision.transforms.Compose([torchvision.transforms.ToTensor()]))\n",
        "print(f'Datatype of the dataset object: {type(train_data)}')\n",
        "# check the length of dataset\n",
        "n_train_samples = len(train_data)\n",
        "print(f'Number of samples in training data: {len(train_data)}')\n",
        "print(f'Number of samples in test data: {len(test_data)}')\n",
        "# Check the format of dataset\n",
        "#print(f'Foramt of the dataset: \\n {train_data}')\n",
        "\n",
        "val_split = .2\n",
        "batch_size=256\n",
        "\n",
        "train_data_, val_data = random_split(train_data, [int(n_train_samples*(1-val_split)), int(n_train_samples*val_split)])\n",
        "\n",
        "train_loader = torch.utils.data.DataLoader(train_data_, batch_size=batch_size,shuffle=True)\n",
        "val_loader = torch.utils.data.DataLoader(val_data, batch_size=batch_size,shuffle=True)\n",
        "test_loader = torch.utils.data.DataLoader(test_data, batch_size=batch_size,shuffle=True)"
      ]
    },
    {
      "cell_type": "markdown",
      "id": "0b94c083",
      "metadata": {
        "id": "0b94c083"
      },
      "source": [
        "### Displaying the loaded dataset"
      ]
    },
    {
      "cell_type": "code",
      "execution_count": null,
      "id": "a6e15476",
      "metadata": {
        "id": "a6e15476",
        "colab": {
          "base_uri": "https://localhost:8080/",
          "height": 438
        },
        "outputId": "7121df35-3e8f-4db8-807a-65ccac5f8b96"
      },
      "outputs": [
        {
          "output_type": "display_data",
          "data": {
            "text/plain": [
              "<Figure size 640x480 with 6 Axes>"
            ],
            "image/png": "[encoded data removed]"
          },
          "metadata": {}
        }
      ],
      "source": [
        "import matplotlib.pyplot as plt\n",
        "\n",
        "fig = plt.figure()\n",
        "for i in range(6):\n",
        "  plt.subplot(2, 3, i+1)\n",
        "  plt.tight_layout()\n",
        "  plt.imshow(train_data[i][0][0], cmap='gray', interpolation='none')\n",
        "  plt.title(\"Class Label: {}\".format(train_data[i][1]))\n",
        "  plt.xticks([])\n",
        "  plt.yticks([])\n"
      ]
    },
    {
      "cell_type": "markdown",
      "id": "524851bc",
      "metadata": {
        "id": "524851bc"
      },
      "source": [
        "## Function to train the model"
      ]
    },
    {
      "cell_type": "code",
      "execution_count": null,
      "id": "718c5a83",
      "metadata": {
        "id": "718c5a83"
      },
      "outputs": [],
      "source": [
        "def train_model(model, train_loader, device, loss_fn, optimizer, input_dim=(-1,1,28,28)):\n",
        "    model.train()\n",
        "    # Initiate a loss monitor\n",
        "    train_loss = []\n",
        "    # Iterate the dataloader (we do not need the label values, this is unsupervised learning and not supervised classification)\n",
        "    for images, labels in train_loader: # the variable `labels` will be used for customised training\n",
        "        # reshape input\n",
        "        images = torch.reshape(images,input_dim)\n",
        "        images = images.to(device)\n",
        "        labels = labels.to(device)\n",
        "        # predict the class\n",
        "        predicted = model(images)\n",
        "        loss = loss_fn(predicted, labels)\n",
        "        # Backward pass (back propagation)\n",
        "        optimizer.zero_grad()\n",
        "        loss.backward()\n",
        "        optimizer.step()\n",
        "        wandb.log({\"Training Loss\": loss})\n",
        "        wandb.watch(model)\n",
        "        train_loss.append(loss.detach().cpu().numpy())\n",
        "    return np.mean(train_loss)"
      ]
    },
    {
      "cell_type": "markdown",
      "id": "802d74a4",
      "metadata": {
        "id": "802d74a4"
      },
      "source": [
        "## Function to test the model"
      ]
    },
    {
      "cell_type": "code",
      "execution_count": null,
      "id": "9f24a06a",
      "metadata": {
        "id": "9f24a06a"
      },
      "outputs": [],
      "source": [
        "# Testing Function\n",
        "def test_model(model, test_loader, device, loss_fn, input_dim=(-1,1,28,28)):\n",
        "    # Set evaluation mode for encoder and decoder\n",
        "    model.eval()\n",
        "    with torch.no_grad(): # No need to track the gradients\n",
        "        # Define the lists to store the outputs for each batch\n",
        "        predicted = []\n",
        "        actual = []\n",
        "        for images, labels in test_loader:\n",
        "            # reshape input\n",
        "            images = torch.reshape(images,input_dim)\n",
        "            images = images.to(device)\n",
        "            labels = labels.to(device)\n",
        "            ## predict the label\n",
        "            pred = model(images)\n",
        "            # Append the network output and the original image to the lists\n",
        "            predicted.append(pred.cpu())\n",
        "            actual.append(labels.cpu())\n",
        "        # Create a single tensor with all the values in the lists\n",
        "        predicted = torch.cat(predicted)\n",
        "        actual = torch.cat(actual)\n",
        "        # Evaluate global loss\n",
        "        val_loss = loss_fn(predicted, actual)\n",
        "    return val_loss.data"
      ]
    },
    {
      "cell_type": "markdown",
      "id": "bfdd1864",
      "metadata": {
        "id": "bfdd1864"
      },
      "source": [
        "Before we start training let's delete the huge FC-Net we built and build a reasonable FC-Net (You learnt why such larger networks are not reasonable in the previous notebook)"
      ]
    },
    {
      "cell_type": "code",
      "execution_count": null,
      "id": "51fca7cc",
      "metadata": {
        "id": "51fca7cc"
      },
      "outputs": [],
      "source": [
        "del fc_net, fc_net_custom1, fc_net_custom2, fc_net_custom3\n",
        "torch.cuda.empty_cache()\n",
        "# Building a reasonable fully connected network\n",
        "fc_net = build_custom_fc_net(inp_dim=(1,28,28), out_dim=10, hidden_fc_dim=[128,64,32])"
      ]
    },
    {
      "cell_type": "markdown",
      "id": "6bc501cf",
      "metadata": {
        "id": "6bc501cf"
      },
      "source": [
        "<b>Exercise 3.1.5:</b>\n",
        "Code the `weight_init_xavier` function by referring to https://pytorch.org/docs/stable/nn.init.html. Replace the weight initializations to your own function.\n"
      ]
    },
    {
      "cell_type": "code",
      "execution_count": null,
      "id": "60636ac1",
      "metadata": {
        "id": "60636ac1",
        "colab": {
          "base_uri": "https://localhost:8080/"
        },
        "outputId": "09e9d5f9-b721-4ca3-9f9b-4d35d59bab3f"
      },
      "outputs": [
        {
          "output_type": "stream",
          "name": "stdout",
          "text": [
            "Selected device: cuda\n"
          ]
        }
      ],
      "source": [
        "### Set the random seed for reproducible results\n",
        "torch.manual_seed(0)\n",
        "# Choosing a device based on the env and torch setup\n",
        "device = torch.device(\"cuda\") if torch.cuda.is_available() else torch.device(\"cpu\")\n",
        "print(f'Selected device: {device}')\n",
        "\n",
        "def weight_init_zero(m):\n",
        "    if isinstance(m, nn.Linear) or isinstance(m, nn.Conv2d):\n",
        "        torch.nn.init.constant_(m.weight, 0.0)\n",
        "        m.bias.data.fill_(0.01)\n",
        "\n",
        "def weight_init_xavier(m):\n",
        "    '''\n",
        "    TO-DO: please add code below to add xavier uniform initialization and remove the 'pass'\n",
        "    '''\n",
        "\n",
        "    if isinstance(m, nn.Linear) or isinstance(m, nn.Conv2d):\n",
        "        torch.nn.init.xavier_uniform_(m.weight,\n",
        "                                      gain=nn.init.calculate_gain('relu'))\n",
        "        m.bias.data.fill_(0.01)\n",
        "    pass\n",
        "\n",
        "\n",
        "fc_net.to(device)\n",
        "conv_net.to(device)\n",
        "\n",
        "# Apply the weight initialization\n",
        "fc_net.apply(weight_init_zero)\n",
        "conv_net.apply(weight_init_zero)\n",
        "\n",
        "# Apply the xavier weight initialization\n",
        "#TO-DO: Add your function here\n",
        "fc_net.apply(weight_init_xavier)\n",
        "conv_net.apply(weight_init_xavier)\n",
        "\n",
        "\n",
        "# Take the parameters for optimiser\n",
        "params_to_optimize_fc = [\n",
        "    {'params': fc_net.parameters()}\n",
        "]\n",
        "\n",
        "params_to_optimize_conv = [\n",
        "    {'params': conv_net.parameters()}\n",
        "]\n",
        "### Define the loss function\n",
        "loss_fn = torch.nn.NLLLoss()\n",
        "### Define an optimizer (both for the encoder and the decoder!)\n",
        "lr= 0.001\n",
        "\n",
        "optim_fc = torch.optim.Adam(params_to_optimize_fc, lr=lr, weight_decay=1e-05)\n",
        "optim_conv = torch.optim.Adam(params_to_optimize_conv, lr=lr, weight_decay=1e-05)\n",
        "num_epochs = 30\n",
        "wandb.config = {\n",
        "  \"learning_rate\": lr,\n",
        "  \"epochs\": num_epochs,\n",
        "  \"batch_size\": batch_size\n",
        "}"
      ]
    },
    {
      "cell_type": "markdown",
      "id": "53753ff1",
      "metadata": {
        "id": "53753ff1"
      },
      "source": [
        "# Training the Convolutional Neural Networks"
      ]
    },
    {
      "cell_type": "code",
      "execution_count": null,
      "id": "a9616b62",
      "metadata": {
        "scrolled": true,
        "id": "a9616b62",
        "colab": {
          "base_uri": "https://localhost:8080/"
        },
        "outputId": "b24bf6ce-5bfa-432d-94b0-865ace0f076b"
      },
      "outputs": [
        {
          "output_type": "stream",
          "name": "stdout",
          "text": [
            "Conv Net training started\n"
          ]
        },
        {
          "output_type": "stream",
          "name": "stderr",
          "text": [
            "/usr/local/lib/python3.10/dist-packages/torch/nn/modules/container.py:217: UserWarning: Implicit dimension choice for log_softmax has been deprecated. Change the call to include dim=X as an argument.\n",
            "  input = module(input)\n",
            "/usr/local/lib/python3.10/dist-packages/torch/nn/modules/container.py:217: UserWarning: Implicit dimension choice for log_softmax has been deprecated. Change the call to include dim=X as an argument.\n",
            "  input = module(input)\n"
          ]
        },
        {
          "output_type": "stream",
          "name": "stdout",
          "text": [
            "Epoch 1/30 : train loss 0.341 \t val loss 0.129\n",
            "Epoch 2/30 : train loss 0.109 \t val loss 0.073\n",
            "Epoch 3/30 : train loss 0.069 \t val loss 0.066\n",
            "Epoch 4/30 : train loss 0.054 \t val loss 0.042\n",
            "Epoch 5/30 : train loss 0.040 \t val loss 0.044\n",
            "Epoch 6/30 : train loss 0.032 \t val loss 0.036\n",
            "Epoch 7/30 : train loss 0.029 \t val loss 0.038\n",
            "Epoch 8/30 : train loss 0.023 \t val loss 0.039\n",
            "Epoch 9/30 : train loss 0.020 \t val loss 0.036\n",
            "Epoch 10/30 : train loss 0.017 \t val loss 0.044\n",
            "Epoch 11/30 : train loss 0.015 \t val loss 0.035\n",
            "Epoch 12/30 : train loss 0.011 \t val loss 0.041\n",
            "Epoch 13/30 : train loss 0.009 \t val loss 0.036\n",
            "Epoch 14/30 : train loss 0.009 \t val loss 0.042\n",
            "Epoch 15/30 : train loss 0.007 \t val loss 0.037\n",
            "Epoch 16/30 : train loss 0.007 \t val loss 0.044\n",
            "Epoch 17/30 : train loss 0.007 \t val loss 0.041\n",
            "Epoch 18/30 : train loss 0.005 \t val loss 0.042\n",
            "Epoch 19/30 : train loss 0.004 \t val loss 0.045\n",
            "Epoch 20/30 : train loss 0.005 \t val loss 0.043\n",
            "Epoch 21/30 : train loss 0.004 \t val loss 0.046\n",
            "Epoch 22/30 : train loss 0.003 \t val loss 0.048\n",
            "Epoch 23/30 : train loss 0.004 \t val loss 0.057\n",
            "Epoch 24/30 : train loss 0.006 \t val loss 0.051\n",
            "Epoch 25/30 : train loss 0.004 \t val loss 0.057\n",
            "Epoch 26/30 : train loss 0.004 \t val loss 0.052\n",
            "Epoch 27/30 : train loss 0.001 \t val loss 0.046\n",
            "Epoch 28/30 : train loss 0.001 \t val loss 0.046\n",
            "Epoch 29/30 : train loss 0.000 \t val loss 0.047\n",
            "Epoch 30/30 : train loss 0.000 \t val loss 0.048\n",
            "Conv Net training done in 854.213 seconds!\n"
          ]
        }
      ],
      "source": [
        "print('Conv Net training started')\n",
        "history_conv = {'train_loss':[],'val_loss':[]}\n",
        "start_time = datetime.datetime.now()\n",
        "\n",
        "for epoch in range(num_epochs):\n",
        "    ### Training\n",
        "\n",
        "    train_loss = train_model(\n",
        "        model=conv_net,\n",
        "        train_loader=train_loader,\n",
        "        device=device,\n",
        "        loss_fn=loss_fn,\n",
        "        optimizer=optim_conv,\n",
        "        input_dim=(-1,1,28,28))\n",
        "    ### Validation  (use the testing function)\n",
        "    val_loss = test_model(\n",
        "        model=conv_net,\n",
        "        test_loader=test_loader,\n",
        "        device=device,\n",
        "        loss_fn=loss_fn,\n",
        "        input_dim=(-1,1,28,28))\n",
        "    # Print Losses\n",
        "    print(f'Epoch {epoch+1}/{num_epochs} : train loss {train_loss:.3f} \\t val loss {val_loss:.3f}')\n",
        "    history_conv['train_loss'].append(train_loss)\n",
        "    history_conv['val_loss'].append(val_loss)\n",
        "\n",
        "\n",
        "print(f'Conv Net training done in {(datetime.datetime.now()-start_time).total_seconds():.3f} seconds!')"
      ]
    },
    {
      "cell_type": "markdown",
      "id": "f1465fbd",
      "metadata": {
        "id": "f1465fbd"
      },
      "source": [
        "### Visualizing Training Progress of Conv Net (Also check out your wandb.ai homepage)"
      ]
    },
    {
      "cell_type": "code",
      "execution_count": null,
      "id": "c1622763",
      "metadata": {
        "id": "c1622763",
        "colab": {
          "base_uri": "https://localhost:8080/",
          "height": 467
        },
        "outputId": "804bb016-c9c3-429c-d1a9-04cbd5c98894"
      },
      "outputs": [
        {
          "output_type": "execute_result",
          "data": {
            "text/plain": [
              "Text(0, 0.5, 'Negative Log Likelihood Loss')"
            ]
          },
          "metadata": {},
          "execution_count": 29
        },
        {
          "output_type": "display_data",
          "data": {
            "text/plain": [
              "<Figure size 640x480 with 1 Axes>"
            ],
            "image/png": "[encoded data removed]"
          },
          "metadata": {}
        }
      ],
      "source": [
        "fig = plt.figure()\n",
        "plt.plot(history_conv['train_loss'], color='blue')\n",
        "plt.plot(history_conv['val_loss'], color='red')\n",
        "plt.legend(['Train Loss', 'Test Loss'], loc='upper right')\n",
        "plt.xlabel('Epochs')\n",
        "plt.ylabel('Negative Log Likelihood Loss')"
      ]
    },
    {
      "cell_type": "markdown",
      "id": "f163e64a",
      "metadata": {
        "id": "f163e64a"
      },
      "source": [
        "### Visualizing Predictions of Conv Net"
      ]
    },
    {
      "cell_type": "code",
      "execution_count": null,
      "id": "89ac3520",
      "metadata": {
        "scrolled": false,
        "id": "89ac3520",
        "colab": {
          "base_uri": "https://localhost:8080/",
          "height": 483
        },
        "outputId": "c7df62ac-1a5c-4b16-a9b2-6cbabcbacb1a"
      },
      "outputs": [
        {
          "output_type": "display_data",
          "data": {
            "text/plain": [
              "<Figure size 500x500 with 9 Axes>"
            ],
            "image/png": "[encoded data removed]"
          },
          "metadata": {}
        }
      ],
      "source": [
        "examples = enumerate(test_loader)\n",
        "batch_idx, (example_data, example_targets) = next(examples)\n",
        "with torch.no_grad():\n",
        "    example_data = example_data.to(device)\n",
        "    output = conv_net(example_data)\n",
        "example_data = example_data.cpu().detach().numpy()\n",
        "fig = plt.figure(figsize=(5,5))\n",
        "for i in range(9):\n",
        "    plt.subplot(3,3,i+1)\n",
        "    plt.tight_layout()\n",
        "    plt.imshow(example_data[i][0], cmap='gray',interpolation='none')\n",
        "    plt.title(\"Prediction: {}\".format(\n",
        "    output.data.max(1, keepdim=True)[1][i].item()))\n",
        "    plt.xticks([])\n",
        "    plt.yticks([])"
      ]
    },
    {
      "cell_type": "markdown",
      "id": "eacd45fe",
      "metadata": {
        "id": "eacd45fe"
      },
      "source": [
        "# Training the Fully-Connected Neural Networks\n",
        "\n",
        "<b>Exercise 3.1.6:</b> Train the fully connected neural network and analyse it"
      ]
    },
    {
      "cell_type": "code",
      "execution_count": null,
      "id": "4ee8d12c",
      "metadata": {
        "id": "4ee8d12c",
        "colab": {
          "base_uri": "https://localhost:8080/"
        },
        "outputId": "42556fda-e93d-4e37-d4ab-b9ba2353ba2b"
      },
      "outputs": [
        {
          "output_type": "stream",
          "name": "stdout",
          "text": [
            "FC Net training started\n"
          ]
        },
        {
          "output_type": "stream",
          "name": "stderr",
          "text": [
            "/usr/local/lib/python3.10/dist-packages/torch/nn/modules/container.py:217: UserWarning: Implicit dimension choice for log_softmax has been deprecated. Change the call to include dim=X as an argument.\n",
            "  input = module(input)\n"
          ]
        },
        {
          "output_type": "stream",
          "name": "stdout",
          "text": [
            "Epoch 1/30 : train loss 0.472 \t val loss 0.202\n",
            "Epoch 2/30 : train loss 0.166 \t val loss 0.142\n",
            "Epoch 3/30 : train loss 0.113 \t val loss 0.124\n",
            "Epoch 4/30 : train loss 0.087 \t val loss 0.110\n",
            "Epoch 5/30 : train loss 0.066 \t val loss 0.098\n",
            "Epoch 6/30 : train loss 0.052 \t val loss 0.095\n",
            "Epoch 7/30 : train loss 0.043 \t val loss 0.092\n",
            "Epoch 8/30 : train loss 0.034 \t val loss 0.088\n",
            "Epoch 9/30 : train loss 0.029 \t val loss 0.093\n",
            "Epoch 10/30 : train loss 0.022 \t val loss 0.087\n",
            "Epoch 11/30 : train loss 0.018 \t val loss 0.092\n",
            "Epoch 12/30 : train loss 0.017 \t val loss 0.095\n",
            "Epoch 13/30 : train loss 0.013 \t val loss 0.092\n",
            "Epoch 14/30 : train loss 0.009 \t val loss 0.092\n",
            "Epoch 15/30 : train loss 0.009 \t val loss 0.092\n",
            "Epoch 16/30 : train loss 0.006 \t val loss 0.106\n",
            "Epoch 17/30 : train loss 0.007 \t val loss 0.102\n",
            "Epoch 18/30 : train loss 0.012 \t val loss 0.108\n",
            "Epoch 19/30 : train loss 0.014 \t val loss 0.108\n",
            "Epoch 20/30 : train loss 0.016 \t val loss 0.096\n",
            "Epoch 21/30 : train loss 0.007 \t val loss 0.115\n",
            "Epoch 22/30 : train loss 0.003 \t val loss 0.113\n",
            "Epoch 23/30 : train loss 0.002 \t val loss 0.103\n",
            "Epoch 24/30 : train loss 0.001 \t val loss 0.101\n",
            "Epoch 25/30 : train loss 0.000 \t val loss 0.102\n",
            "Epoch 26/30 : train loss 0.000 \t val loss 0.102\n",
            "Epoch 27/30 : train loss 0.000 \t val loss 0.102\n",
            "Epoch 28/30 : train loss 0.000 \t val loss 0.103\n",
            "Epoch 29/30 : train loss 0.000 \t val loss 0.103\n",
            "Epoch 30/30 : train loss 0.000 \t val loss 0.103\n",
            "FC Net training done in 1217.104 seconds!\n"
          ]
        }
      ],
      "source": [
        "#TO-DO:Train the fc_net here\n",
        "print('FC Net training started')\n",
        "history_fc = {'train_loss':[],'val_loss':[]}\n",
        "start_time = datetime.datetime.now()\n",
        "\n",
        "for epoch in range(num_epochs):\n",
        "    ### Training\n",
        "\n",
        "    train_loss = train_model(\n",
        "        model=fc_net,\n",
        "        train_loader=train_loader,\n",
        "        device=device,\n",
        "        loss_fn=loss_fn,\n",
        "        optimizer=optim_fc,\n",
        "        input_dim=(-1,1,28,28))\n",
        "    ### Validation  (use the testing function)\n",
        "    val_loss = test_model(\n",
        "        model=fc_net,\n",
        "        test_loader=test_loader,\n",
        "        device=device,\n",
        "        loss_fn=loss_fn,\n",
        "        input_dim=(-1,1,28,28))\n",
        "    # Print Losses\n",
        "    print(f'Epoch {epoch+1}/{num_epochs} : train loss {train_loss:.3f} \\t val loss {val_loss:.3f}')\n",
        "    history_fc['train_loss'].append(train_loss)\n",
        "    history_fc['val_loss'].append(val_loss)\n",
        "\n",
        "\n",
        "print(f'FC Net training done in {(datetime.datetime.now()-start_time).total_seconds():.3f} seconds!')"
      ]
    },
    {
      "cell_type": "markdown",
      "id": "b4c5cd18",
      "metadata": {
        "id": "b4c5cd18"
      },
      "source": [
        "## Visualizing Training Progress of FC Net (Check out your wandb.ai project webpage)"
      ]
    },
    {
      "cell_type": "code",
      "execution_count": null,
      "id": "926d5e38",
      "metadata": {
        "id": "926d5e38",
        "colab": {
          "base_uri": "https://localhost:8080/",
          "height": 467
        },
        "outputId": "1b3fc1d2-8778-4a15-aabc-dbee8d161f02"
      },
      "outputs": [
        {
          "output_type": "execute_result",
          "data": {
            "text/plain": [
              "Text(0, 0.5, 'Negative Log Likelihood Loss')"
            ]
          },
          "metadata": {},
          "execution_count": 33
        },
        {
          "output_type": "display_data",
          "data": {
            "text/plain": [
              "<Figure size 640x480 with 1 Axes>"
            ],
            "image/png": "[encoded data removed]"
          },
          "metadata": {}
        }
      ],
      "source": [
        "# TODO - Visualize the training progress of fc_net\n",
        "fig = plt.figure()\n",
        "plt.plot(history_fc['train_loss'], color='blue')\n",
        "plt.plot(history_fc['val_loss'], color='red')\n",
        "plt.legend(['Train Loss', 'Test Loss'], loc='upper right')\n",
        "plt.xlabel('Epochs')\n",
        "plt.ylabel('Negative Log Likelihood Loss')"
      ]
    },
    {
      "cell_type": "markdown",
      "id": "107c77be",
      "metadata": {
        "id": "107c77be"
      },
      "source": [
        "## Visualizing Predictions of FC Net"
      ]
    },
    {
      "cell_type": "code",
      "execution_count": null,
      "id": "a6f399e8",
      "metadata": {
        "id": "a6f399e8",
        "colab": {
          "base_uri": "https://localhost:8080/",
          "height": 483
        },
        "outputId": "6ef4bce1-257e-43f9-bbde-d333ea52b936"
      },
      "outputs": [
        {
          "output_type": "display_data",
          "data": {
            "text/plain": [
              "<Figure size 500x500 with 9 Axes>"
            ],
            "image/png": "[encoded data removed]"
          },
          "metadata": {}
        }
      ],
      "source": [
        "# TODO - Visualise the predictions of fc_net\n",
        "examples = enumerate(test_loader)\n",
        "batch_idx, (example_data, example_targets) = next(examples)\n",
        "with torch.no_grad():\n",
        "    example_data = example_data.to(device)\n",
        "    output = fc_net(example_data)\n",
        "example_data = example_data.cpu().detach().numpy()\n",
        "fig = plt.figure(figsize=(5,5))\n",
        "for i in range(9):\n",
        "    plt.subplot(3,3,i+1)\n",
        "    plt.tight_layout()\n",
        "    plt.imshow(example_data[i][0], cmap='gray',interpolation='none')\n",
        "    plt.title(\"Prediction: {}\".format(\n",
        "    output.data.max(1, keepdim=True)[1][i].item()))\n",
        "    plt.xticks([])\n",
        "    plt.yticks([])"
      ]
    },
    {
      "cell_type": "markdown",
      "id": "b2981154",
      "metadata": {
        "id": "b2981154"
      },
      "source": [
        "<b>Exercise 3.1.7</b>: What are the training times for each of the model? Did both the models take similar times? If yes, why? Shouldn't CNN train faster given it's number of weights to train?"
      ]
    },
    {
      "cell_type": "code",
      "execution_count": null,
      "id": "3528f2d9",
      "metadata": {
        "id": "3528f2d9"
      },
      "outputs": [],
      "source": [
        "#Please type your answer here ...\n"
      ]
    },
    {
      "cell_type": "markdown",
      "source": [
        "Time for the conv network = 854.213s\n",
        "\n",
        "Time taken for the FC network = 1217.104s\n",
        "\n",
        "The CNN trained faster but not by much."
      ],
      "metadata": {
        "id": "DaUAc3VLw_5M"
      },
      "id": "DaUAc3VLw_5M"
    },
    {
      "cell_type": "markdown",
      "id": "b33605f1",
      "metadata": {
        "id": "b33605f1"
      },
      "source": [
        "## Let's see how the models perform under translation"
      ]
    },
    {
      "cell_type": "markdown",
      "id": "7a4d24b6",
      "metadata": {
        "id": "7a4d24b6"
      },
      "source": [
        "In principle, one of the advantages of convolutions is that they are equivariant under translation which means that a function composed out of convolutions should invariant under translation.\n",
        "\n",
        "<b>Exercise 3.1.8</b>: In practice, however, we might not see perfect invariance under translation.  What aspect of our network leads to imperfect invariance?"
      ]
    },
    {
      "cell_type": "markdown",
      "id": "889cbdfc",
      "metadata": {
        "id": "889cbdfc"
      },
      "source": [
        "Type your answer here"
      ]
    },
    {
      "cell_type": "markdown",
      "id": "b8a0d35b",
      "metadata": {
        "id": "b8a0d35b"
      },
      "source": [
        "We will next measure the sensitivity  of the convolutional network to translation in practice, and we will compare it to the fully-connected version.\n",
        "The one noticable change is at the eedges. Here the FC has a much lower accuracy at the extremes but the convolutions seem to be more robust in that domain. Both the convolutional and the FC networks are robust to translation upto when pieces of the digits start getting cut off. After that since the convolution can act on multiple pixels at the same time, it tends to be more robust towards missing information from digits being cut off"
      ]
    },
    {
      "cell_type": "code",
      "execution_count": null,
      "id": "9e8583d7",
      "metadata": {
        "id": "9e8583d7"
      },
      "outputs": [],
      "source": [
        "## function to check accuracies for unit translation\n",
        "def shiftVsAccuracy(model, test_loader, device, loss_fn, shifts = 12, input_dim=(-1,1,28,28)):\n",
        "    # Set evaluation mode for encoder and decoder\n",
        "    accuracies = []\n",
        "    shifted = []\n",
        "    for i in range(-shifts,shifts):\n",
        "        model.eval()\n",
        "        correct = 0\n",
        "        total = 0\n",
        "        with torch.no_grad(): # No need to track the gradients\n",
        "            # Define the lists to store the outputs for each batch\n",
        "            predicted = []\n",
        "            actual = []\n",
        "            for images, labels in test_loader:\n",
        "                # reshape input\n",
        "                images = torch.roll(images,shifts=i, dims=2)\n",
        "                if i == 0:\n",
        "                    pass\n",
        "                elif i > 0:\n",
        "                    images[:,:,:i,:] = 0\n",
        "                else:\n",
        "                    images[:,:,i:,:] = 0\n",
        "                images = torch.reshape(images,input_dim)\n",
        "                images = images.to(device)\n",
        "                labels = labels.to(device)\n",
        "                ## predict the label\n",
        "                pred = model(images)\n",
        "                # Append the network output and the original image to the lists\n",
        "                _ , pred = torch.max(pred.data, 1)\n",
        "                total += labels.size(0)\n",
        "                correct += (pred == labels).sum().item()\n",
        "                predicted.append(pred.cpu())\n",
        "                actual.append(labels.cpu())\n",
        "            shifted.append(images[0][0].cpu())\n",
        "            acc = 100 * correct // total\n",
        "            accuracies.append(acc)\n",
        "    return accuracies,shifted"
      ]
    },
    {
      "cell_type": "code",
      "execution_count": null,
      "id": "89576a2d",
      "metadata": {
        "id": "89576a2d"
      },
      "outputs": [],
      "source": [
        "accuracies,shifted = shiftVsAccuracy(\n",
        "        model=conv_net,\n",
        "        test_loader=test_loader,\n",
        "        device=device,\n",
        "        shifts=12,\n",
        "        loss_fn=loss_fn,\n",
        "        input_dim=(-1,1,28,28))"
      ]
    },
    {
      "cell_type": "code",
      "execution_count": null,
      "id": "99e2b0c9",
      "metadata": {
        "id": "99e2b0c9",
        "colab": {
          "base_uri": "https://localhost:8080/",
          "height": 470
        },
        "outputId": "683af906-cc14-4e71-908f-b6bab897d9a3"
      },
      "outputs": [
        {
          "output_type": "execute_result",
          "data": {
            "text/plain": [
              "Text(0.5, 1.0, 'Accuracy Vs Translation')"
            ]
          },
          "metadata": {},
          "execution_count": 38
        },
        {
          "output_type": "display_data",
          "data": {
            "text/plain": [
              "<Figure size 640x480 with 1 Axes>"
            ],
            "image/png": "[encoded data removed]"
          },
          "metadata": {}
        }
      ],
      "source": [
        "shifts = np.arange(-12,12)\n",
        "plt.plot(shifts,accuracies)\n",
        "plt.title('Accuracy Vs Translation')"
      ]
    },
    {
      "cell_type": "code",
      "execution_count": null,
      "id": "b2320b45",
      "metadata": {
        "id": "b2320b45",
        "colab": {
          "base_uri": "https://localhost:8080/",
          "height": 1000
        },
        "outputId": "995a836d-7fa4-4918-c275-8e6889539007"
      },
      "outputs": [
        {
          "output_type": "display_data",
          "data": {
            "text/plain": [
              "<Figure size 2000x2000 with 24 Axes>"
            ],
            "image/png": "[encoded data removed]"
          },
          "metadata": {}
        }
      ],
      "source": [
        "fig = plt.figure(figsize=(20,20))\n",
        "plt_num = 0\n",
        "for i in range(-12,12):\n",
        "    plt.subplot(5,6,plt_num+1)\n",
        "    plt.imshow(shifted[plt_num], cmap='gray',interpolation='none')\n",
        "    plt.title(f\"Shifted: {i} Accuracy: {accuracies[plt_num]}\")\n",
        "    plt.xticks([])\n",
        "    plt.yticks([])\n",
        "    plt_num+=1"
      ]
    },
    {
      "cell_type": "markdown",
      "id": "6b217e71",
      "metadata": {
        "id": "6b217e71"
      },
      "source": [
        "<b>Exercise 3.1.8:</b>\n",
        "Do the same for FC-Net and plot the accuracies. Is the rate of accuracy degradation same as Conv-Net? Can you justify why this happened? <br>\n",
        "Clue: You might want to look at the way convolution layers process information\n",
        "\n",
        "\n",
        "There is no noticable difference between the two. Ideally the convolutions should be more robust to translations, but we see no big change between FC and the convolutional layer."
      ]
    },
    {
      "cell_type": "code",
      "execution_count": null,
      "id": "80b4cf9a",
      "metadata": {
        "id": "80b4cf9a"
      },
      "outputs": [],
      "source": [
        "# To-DO Write your code below\n",
        "accuracies,shifted = shiftVsAccuracy(\n",
        "        model=fc_net,\n",
        "        test_loader=test_loader,\n",
        "        device=device,\n",
        "        shifts=12,\n",
        "        loss_fn=loss_fn,\n",
        "        input_dim=(-1,1,28,28))"
      ]
    },
    {
      "cell_type": "code",
      "source": [
        "shifts = np.arange(-12,12)\n",
        "plt.plot(shifts,accuracies)\n",
        "plt.title('Accuracy Vs Translation')"
      ],
      "metadata": {
        "id": "3dsEGhtbxoZE",
        "outputId": "7e7efc29-a437-4e5b-fdf6-d08109f30454",
        "colab": {
          "base_uri": "https://localhost:8080/",
          "height": 470
        }
      },
      "id": "3dsEGhtbxoZE",
      "execution_count": null,
      "outputs": [
        {
          "output_type": "execute_result",
          "data": {
            "text/plain": [
              "Text(0.5, 1.0, 'Accuracy Vs Translation')"
            ]
          },
          "metadata": {},
          "execution_count": 44
        },
        {
          "output_type": "display_data",
          "data": {
            "text/plain": [
              "<Figure size 640x480 with 1 Axes>"
            ],
            "image/png": "[encoded data removed]"
          },
          "metadata": {}
        }
      ]
    },
    {
      "cell_type": "code",
      "source": [
        "fig = plt.figure(figsize=(20,20))\n",
        "plt_num = 0\n",
        "for i in range(-12,12):\n",
        "    plt.subplot(5,6,plt_num+1)\n",
        "    plt.imshow(shifted[plt_num], cmap='gray',interpolation='none')\n",
        "    plt.title(f\"Shifted: {i} Accuracy: {accuracies[plt_num]}\")\n",
        "    plt.xticks([])\n",
        "    plt.yticks([])\n",
        "    plt_num+=1"
      ],
      "metadata": {
        "id": "tQlacRZhxogt",
        "outputId": "1e08983a-73b3-4b72-f984-979d4924969e",
        "colab": {
          "base_uri": "https://localhost:8080/",
          "height": 1000
        }
      },
      "id": "tQlacRZhxogt",
      "execution_count": null,
      "outputs": [
        {
          "output_type": "display_data",
          "data": {
            "text/plain": [
              "<Figure size 2000x2000 with 24 Axes>"
            ],
            "image/png": "[encoded data removed]"
          },
          "metadata": {}
        }
      ]
    },
    {
      "cell_type": "code",
      "source": [],
      "metadata": {
        "id": "LjzSlVQ_xspT"
      },
      "id": "LjzSlVQ_xspT",
      "execution_count": null,
      "outputs": []
    }
  ],
  "metadata": {
    "kernelspec": {
      "display_name": "Python 3",
      "name": "python3"
    },
    "language_info": {
      "codemirror_mode": {
        "name": "ipython",
        "version": 3
      },
      "file_extension": ".py",
      "mimetype": "text/x-python",
      "name": "python",
      "nbconvert_exporter": "python",
      "pygments_lexer": "ipython3",
      "version": "3.9.12"
    },
    "colab": {
      "provenance": [],
      "gpuType": "T4"
    },
    "accelerator": "GPU"
  },
  "nbformat": 4,
  "nbformat_minor": 5
}